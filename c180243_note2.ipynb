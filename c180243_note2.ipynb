{
  "cells": [
    {
      "metadata": {
        "trusted": true
      },
      "cell_type": "code",
      "source": "import numpy as np\nfrom IPython.display import Image, display",
      "execution_count": 15,
      "outputs": []
    },
    {
      "metadata": {
        "trusted": true
      },
      "cell_type": "code",
      "source": "Image('./multilayer_nn_1.jpg')",
      "execution_count": 3,
      "outputs": [
        {
          "output_type": "error",
          "ename": "NameError",
          "evalue": "name 'Image' is not defined",
          "traceback": [
            "\u001b[0;31m---------------------------------------------------------------------------\u001b[0m",
            "\u001b[0;31mNameError\u001b[0m                                 Traceback (most recent call last)",
            "\u001b[0;32m<ipython-input-3-542f00386f11>\u001b[0m in \u001b[0;36m<module>\u001b[0;34m\u001b[0m\n\u001b[0;32m----> 1\u001b[0;31m \u001b[0mImage\u001b[0m\u001b[0;34m(\u001b[0m\u001b[0;34m'./multilayer_nn_1.jpg'\u001b[0m\u001b[0;34m)\u001b[0m\u001b[0;34m\u001b[0m\u001b[0m\n\u001b[0m",
            "\u001b[0;31mNameError\u001b[0m: name 'Image' is not defined"
          ]
        }
      ]
    },
    {
      "metadata": {},
      "cell_type": "markdown",
      "source": "\n$$x_i$$\n\n$$h_j = \\sum_i w_{ij}x_i$$\n\n$$h_j = f(\\sum_i w_{ij}x_i)$$\n\n$$y = f(\\sum_j w_jh_j)$$\n\nなお、活性化関数$f$は、シグモイド関数\n$$f(x) = \\displaystyle \\frac{1}{1 + e^{-x}}$$\nであり、閾値$\\theta$は、$w_0x_0$と表すものとする"
    },
    {
      "metadata": {},
      "cell_type": "markdown",
      "source": "## ベクトル表現\n\n### 入力層のノード数＝4\n$$\\vec{x} = \\begin{pmatrix}\nx_1 &\nx_2 &\nx_3 &\nx_4\n\\end{pmatrix}$$\n### 隠れ層のノード数＝5\n$$\\vec{h} = \\begin{pmatrix}\nh_1 &\nh_2 &\nh_3 &\nh_4 &\nh_5\n\\end{pmatrix}$$\n\n### 出力層のノード数＝1\n\n### 入力層と隠れ層との結合の重み\n$$\\vec{w} = \\begin{pmatrix}\nw_{11} & w_{12} & w_{13} & w_{14} & w_{15} \\\\\nw_{21} & w_{22} & w_{23} & w_{24} & w_{25} \\\\\nw_{31} & w_{32} & w_{33} & w_{34} & w_{35} \\\\\nw_{41} & w_{42} & w_{43} & w_{44} & w_{45} \n\\end{pmatrix}$$\n\n### 隠れ層の出力\n\n$$\\vec{h} = \\vec{w}\\cdot\\vec{x}$$"
    },
    {
      "metadata": {},
      "cell_type": "markdown",
      "source": "# 課題2\n## 多層ニューラルネットワークNの出力を計算する\n\n### ニューラルネットワークNについて\n### 入力層のノード数＝4\n### 隠れ層のノード数＝3\n### 出力層のノード数＝2\n### 隠れ層および出力層の活性化関数はシグモイド関数である\n### 入力層では活性化関数を用いない"
    },
    {
      "metadata": {},
      "cell_type": "markdown",
      "source": "### 準備"
    },
    {
      "metadata": {
        "trusted": true
      },
      "cell_type": "code",
      "source": "# numpyをインポート\npass",
      "execution_count": 17,
      "outputs": []
    },
    {
      "metadata": {
        "trusted": true
      },
      "cell_type": "code",
      "source": "# sigmoid関数を定義\npass",
      "execution_count": 18,
      "outputs": []
    },
    {
      "metadata": {
        "trusted": true
      },
      "cell_type": "code",
      "source": "# 入力層、隠れ層、出力層のノード数を設定\npass\n\n#乱数を発生させるシードを設定（毎回同じ数を発生させる）、シード(0～99)\npass\n\n# 入力値xを4個発生させ、配列（ベクトル）Xに格納\nX = np.random.randn(4)\nX\n",
      "execution_count": 19,
      "outputs": [
        {
          "output_type": "execute_result",
          "execution_count": 19,
          "data": {
            "text/plain": "array([-1.0668638 , -1.23057185,  0.06105078, -0.66244759])"
          },
          "metadata": {}
        }
      ]
    },
    {
      "metadata": {},
      "cell_type": "markdown",
      "source": "### たとえば、np.random.randn(4) を使って、ランダムな入力値を4個発生させる。シード=45のとき、発生される入力値は、\n<font color=\"Red\">\narray$([ 0.02637477,  0.2603217 , -0.39514554, -0.20430091])$\n</font>\n### となる。"
    },
    {
      "metadata": {
        "trusted": true
      },
      "cell_type": "code",
      "source": "# 入力層から隠れ層への重み配列を生成する。値は正規分布（平均＝0、分散＝0，1）に従うものとする。\npass\n",
      "execution_count": 20,
      "outputs": []
    },
    {
      "metadata": {},
      "cell_type": "markdown",
      "source": "### たとえば、入力層から隠れ層への重み配列は、\n<font color=\"Red\">\narray([[-0.12716327, -0.25968786,  0.02896809],　<br>\n       [-0.08733046,  0.03940727,  0.09351055],  <br>\n       [-0.00156847,  0.0259596 , -0.14733142],  <br>\n       [ 0.08019266, -0.17507524, -0.04950519]])\n</font>\n### となる。\n"
    },
    {
      "metadata": {
        "trusted": true
      },
      "cell_type": "code",
      "source": "# 隠れ層から出力層への重み配列も同様に生成する。\npass",
      "execution_count": 21,
      "outputs": []
    },
    {
      "metadata": {},
      "cell_type": "markdown",
      "source": "### たとえば、隠れ層から出力層への重み配列は、\n\n<font color=\"Red\">\narray([[-0.10086008,  0.00252442],  <br>\n       [-0.01215069, -0.15468732],  <br>\n       [-0.0606944 , -0.13938127]])\n</font>\n### となる。\n"
    },
    {
      "metadata": {},
      "cell_type": "markdown",
      "source": "## 課題2解答欄\n## 準備で生成した入力値と重み値とを使って、多層ニューラルネットワークNの出力$y_1$と$y_2$を計算しなさい。出力層のノード数が2個であるため、出力の個数も2個となる。"
    },
    {
      "metadata": {
        "trusted": true
      },
      "cell_type": "code",
      "source": "# 隠れ層への入力h_inを計算\n#h_in =\npass",
      "execution_count": 22,
      "outputs": []
    },
    {
      "metadata": {
        "trusted": true
      },
      "cell_type": "code",
      "source": "# 隠れ層からの出力h_outを計算\n#h_out = \npass",
      "execution_count": 23,
      "outputs": []
    },
    {
      "metadata": {
        "trusted": true
      },
      "cell_type": "code",
      "source": "# 出力層への入力out_inを計算\n#out_in = \npass",
      "execution_count": 24,
      "outputs": []
    },
    {
      "metadata": {
        "trusted": true
      },
      "cell_type": "code",
      "source": "# 出力層からの出力、すなわち、多層ニューラルネットワークの出力ｙを計算\n#y = \npass",
      "execution_count": 25,
      "outputs": []
    },
    {
      "metadata": {
        "trusted": true
      },
      "cell_type": "markdown",
      "source": "### たとえば、ニューラルネットワークの出力は、\n<font color=\"Red\">\narray([0.47818834, 0.46252782])\n</font>\n### となる。\n"
    },
    {
      "metadata": {
        "trusted": true
      },
      "cell_type": "code",
      "source": "",
      "execution_count": 1,
      "outputs": []
    },
    {
      "metadata": {
        "trusted": true
      },
      "cell_type": "code",
      "source": "",
      "execution_count": null,
      "outputs": []
    },
    {
      "metadata": {
        "trusted": true
      },
      "cell_type": "code",
      "source": "",
      "execution_count": null,
      "outputs": []
    }
  ],
  "metadata": {
    "kernelspec": {
      "name": "python36",
      "display_name": "Python 3.6",
      "language": "python"
    },
    "language_info": {
      "mimetype": "text/x-python",
      "nbconvert_exporter": "python",
      "name": "python",
      "pygments_lexer": "ipython3",
      "version": "3.6.6",
      "file_extension": ".py",
      "codemirror_mode": {
        "version": 3,
        "name": "ipython"
      }
    }
  },
  "nbformat": 4,
  "nbformat_minor": 2
}